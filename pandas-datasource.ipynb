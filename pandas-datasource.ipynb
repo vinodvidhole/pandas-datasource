{
 "cells": [
  {
   "cell_type": "markdown",
   "metadata": {},
   "source": [
    "# Useful Pandas Data Sources you might not know \n",
    "#### Different type of Data sources & file formats  supported by Pandas and how to load them into a Pandas DataFrame\n",
    "\n",
    "![](https://i.imgur.com/7hQ9kAG.png)\n",
    "\n",
    "## Introduction\n",
    "DATA is one of the most important if not the most important part of the Data Science. Without proper dataset we can not achieve the requires results. Today we are going to discuss about the different type of Datasources supported by Pandas and how to load them into a Pandas DataFrame.\n",
    "\n",
    "Data can be stored in various file format like CSV, JSON, Excel, Relational Database, Binary file format etc, In this article we will go through each of these data sources and demonstrate how to load the data into Pandas DataFrame."
   ]
  },
  {
   "cell_type": "markdown",
   "metadata": {},
   "source": [
    "We will cover following Data Sources. \n",
    "\n",
    "**1. Data from text Format**\n",
    "- Comma-separated values (CSV)\n",
    "- Fixed Width Format\n",
    "- JSON\n",
    "- HTML\n",
    "- XML\n",
    "- Hierarchical Data Format\n",
    "\n",
    "**2. Binary File Format**\n",
    "- feather \n",
    "- parquet\n",
    "- Images\n",
    "\n",
    "**3. Interacting with Database**\n",
    "\n",
    "- SQLite database\n",
    "\n",
    "**4. Data from API's**\n",
    "- Git Hub API"
   ]
  },
  {
   "cell_type": "markdown",
   "metadata": {},
   "source": [
    "**How to run the Code**<br>\n",
    "You can execute the code using \"Run\" button on the top of this page and selecting **\"Run on Colab\"** or **\"Run Locally\"** \n",
    "<br>\n",
    "\n",
    "The code is available on Github: https://github.com/vinodvidhole/pandas-datasource\n",
    "\n",
    "<br>\n",
    "\n",
    "**Setup and Tools** <br>\n",
    "<u>Run on Colab :</u> \n",
    "    You will need to provide the Google login to run this notebook on Colab.<br>\n",
    "<u>Run Locally :</u> Download and install [Anaconda](https://www.anaconda.com/) framework, We will be using Jupyter Notebook for writing & executing code."
   ]
  },
  {
   "cell_type": "markdown",
   "metadata": {},
   "source": [
    "First step to install and Import Pandas Library"
   ]
  },
  {
   "cell_type": "code",
   "execution_count": 1,
   "metadata": {
    "id": "xTc-RZMM3w83"
   },
   "outputs": [],
   "source": [
    "!pip install pandas --q\n",
    "import pandas as pd"
   ]
  },
  {
   "cell_type": "markdown",
   "metadata": {},
   "source": [
    "## 1. Data from text Format\n",
    "\n",
    "### 1.1 Comma-separated values (CSV) :\n",
    "A comma-separated values (CSV) file is a delimited text file that uses a comma to separate values. Each line of the file is a data record. Each record consists of one or more fields, separated by commas. \n",
    "\n",
    "**pd.read_csv() :** Read a comma-separated values (csv) file into DataFrame.\n",
    "\n",
    "For demonstration purpose, I have already prepared required sample file format data and uploaded in [this](https://github.com/vinodvidhole/pandas-datasource) git hub repository. We will use files stored in this repository throughout this tutorial.\n"
   ]
  },
  {
   "cell_type": "code",
   "execution_count": 2,
   "metadata": {
    "id": "_7Q2OkLc3w84"
   },
   "outputs": [
    {
     "data": {
      "text/html": [
       "<div>\n",
       "<style scoped>\n",
       "    .dataframe tbody tr th:only-of-type {\n",
       "        vertical-align: middle;\n",
       "    }\n",
       "\n",
       "    .dataframe tbody tr th {\n",
       "        vertical-align: top;\n",
       "    }\n",
       "\n",
       "    .dataframe thead th {\n",
       "        text-align: right;\n",
       "    }\n",
       "</style>\n",
       "<table border=\"1\" class=\"dataframe\">\n",
       "  <thead>\n",
       "    <tr style=\"text-align: right;\">\n",
       "      <th></th>\n",
       "      <th>id</th>\n",
       "      <th>title</th>\n",
       "      <th>type</th>\n",
       "      <th>description</th>\n",
       "      <th>release_year</th>\n",
       "      <th>age_certification</th>\n",
       "      <th>runtime</th>\n",
       "      <th>genres</th>\n",
       "      <th>production_countries</th>\n",
       "      <th>seasons</th>\n",
       "      <th>imdb_id</th>\n",
       "      <th>imdb_score</th>\n",
       "      <th>imdb_votes</th>\n",
       "      <th>tmdb_popularity</th>\n",
       "      <th>tmdb_score</th>\n",
       "    </tr>\n",
       "  </thead>\n",
       "  <tbody>\n",
       "    <tr>\n",
       "      <th>0</th>\n",
       "      <td>ts300399</td>\n",
       "      <td>Five Came Back: The Reference Films</td>\n",
       "      <td>SHOW</td>\n",
       "      <td>This collection includes 12 World War II-era p...</td>\n",
       "      <td>1945</td>\n",
       "      <td>TV-MA</td>\n",
       "      <td>48</td>\n",
       "      <td>['documentation']</td>\n",
       "      <td>['US']</td>\n",
       "      <td>1.0</td>\n",
       "      <td>NaN</td>\n",
       "      <td>NaN</td>\n",
       "      <td>NaN</td>\n",
       "      <td>0.600</td>\n",
       "      <td>NaN</td>\n",
       "    </tr>\n",
       "    <tr>\n",
       "      <th>1</th>\n",
       "      <td>tm84618</td>\n",
       "      <td>Taxi Driver</td>\n",
       "      <td>MOVIE</td>\n",
       "      <td>A mentally unstable Vietnam War veteran works ...</td>\n",
       "      <td>1976</td>\n",
       "      <td>R</td>\n",
       "      <td>113</td>\n",
       "      <td>['crime', 'drama']</td>\n",
       "      <td>['US']</td>\n",
       "      <td>NaN</td>\n",
       "      <td>tt0075314</td>\n",
       "      <td>8.3</td>\n",
       "      <td>795222.0</td>\n",
       "      <td>27.612</td>\n",
       "      <td>8.2</td>\n",
       "    </tr>\n",
       "    <tr>\n",
       "      <th>2</th>\n",
       "      <td>tm127384</td>\n",
       "      <td>Monty Python and the Holy Grail</td>\n",
       "      <td>MOVIE</td>\n",
       "      <td>King Arthur, accompanied by his squire, recrui...</td>\n",
       "      <td>1975</td>\n",
       "      <td>PG</td>\n",
       "      <td>91</td>\n",
       "      <td>['comedy', 'fantasy']</td>\n",
       "      <td>['GB']</td>\n",
       "      <td>NaN</td>\n",
       "      <td>tt0071853</td>\n",
       "      <td>8.2</td>\n",
       "      <td>530877.0</td>\n",
       "      <td>18.216</td>\n",
       "      <td>7.8</td>\n",
       "    </tr>\n",
       "    <tr>\n",
       "      <th>3</th>\n",
       "      <td>tm70993</td>\n",
       "      <td>Life of Brian</td>\n",
       "      <td>MOVIE</td>\n",
       "      <td>Brian Cohen is an average young Jewish man, bu...</td>\n",
       "      <td>1979</td>\n",
       "      <td>R</td>\n",
       "      <td>94</td>\n",
       "      <td>['comedy']</td>\n",
       "      <td>['GB']</td>\n",
       "      <td>NaN</td>\n",
       "      <td>tt0079470</td>\n",
       "      <td>8.0</td>\n",
       "      <td>392419.0</td>\n",
       "      <td>17.505</td>\n",
       "      <td>7.8</td>\n",
       "    </tr>\n",
       "  </tbody>\n",
       "</table>\n",
       "</div>"
      ],
      "text/plain": [
       "         id                                title   type  \\\n",
       "0  ts300399  Five Came Back: The Reference Films   SHOW   \n",
       "1   tm84618                          Taxi Driver  MOVIE   \n",
       "2  tm127384      Monty Python and the Holy Grail  MOVIE   \n",
       "3   tm70993                        Life of Brian  MOVIE   \n",
       "\n",
       "                                         description  release_year  \\\n",
       "0  This collection includes 12 World War II-era p...          1945   \n",
       "1  A mentally unstable Vietnam War veteran works ...          1976   \n",
       "2  King Arthur, accompanied by his squire, recrui...          1975   \n",
       "3  Brian Cohen is an average young Jewish man, bu...          1979   \n",
       "\n",
       "  age_certification  runtime                 genres production_countries  \\\n",
       "0             TV-MA       48      ['documentation']               ['US']   \n",
       "1                 R      113     ['crime', 'drama']               ['US']   \n",
       "2                PG       91  ['comedy', 'fantasy']               ['GB']   \n",
       "3                 R       94             ['comedy']               ['GB']   \n",
       "\n",
       "   seasons    imdb_id  imdb_score  imdb_votes  tmdb_popularity  tmdb_score  \n",
       "0      1.0        NaN         NaN         NaN            0.600         NaN  \n",
       "1      NaN  tt0075314         8.3    795222.0           27.612         8.2  \n",
       "2      NaN  tt0071853         8.2    530877.0           18.216         7.8  \n",
       "3      NaN  tt0079470         8.0    392419.0           17.505         7.8  "
      ]
     },
     "execution_count": 2,
     "metadata": {},
     "output_type": "execute_result"
    }
   ],
   "source": [
    "csv_file_url = \"https://raw.githubusercontent.com/vinodvidhole/pandas-datasource/main/titles.csv\"\n",
    "csv_df = pd.read_csv(csv_file_url)\n",
    "csv_df.head(4)"
   ]
  },
  {
   "cell_type": "markdown",
   "metadata": {},
   "source": [
    "### 1.2  Fixed Width Format:\n",
    "Data in a fixed-width text file is arranged in rows and columns, with one entry per row. Each column has a fixed width, specified in characters, which determines the maximum amount of data it can contain.\n",
    "\n",
    "**pd.read_fwf() :** Read a table of fixed-width formatted lines into DataFrame."
   ]
  },
  {
   "cell_type": "code",
   "execution_count": 3,
   "metadata": {},
   "outputs": [
    {
     "data": {
      "text/html": [
       "<div>\n",
       "<style scoped>\n",
       "    .dataframe tbody tr th:only-of-type {\n",
       "        vertical-align: middle;\n",
       "    }\n",
       "\n",
       "    .dataframe tbody tr th {\n",
       "        vertical-align: top;\n",
       "    }\n",
       "\n",
       "    .dataframe thead th {\n",
       "        text-align: right;\n",
       "    }\n",
       "</style>\n",
       "<table border=\"1\" class=\"dataframe\">\n",
       "  <thead>\n",
       "    <tr style=\"text-align: right;\">\n",
       "      <th></th>\n",
       "      <th>Entry</th>\n",
       "      <th>Post Date</th>\n",
       "      <th>GL Account</th>\n",
       "      <th>Description</th>\n",
       "      <th>Srce.</th>\n",
       "      <th>Cflow</th>\n",
       "      <th>Ref.</th>\n",
       "      <th>Post</th>\n",
       "      <th>Debit</th>\n",
       "      <th>Credit</th>\n",
       "      <th>Alloc.</th>\n",
       "    </tr>\n",
       "  </thead>\n",
       "  <tbody>\n",
       "    <tr>\n",
       "      <th>0</th>\n",
       "      <td>16524</td>\n",
       "      <td>10/17/2012</td>\n",
       "      <td>3930621977</td>\n",
       "      <td>TXNPUES</td>\n",
       "      <td>NaN</td>\n",
       "      <td>S1</td>\n",
       "      <td>Yes</td>\n",
       "      <td>RHMXWPCP</td>\n",
       "      <td>Yes</td>\n",
       "      <td>NaN</td>\n",
       "      <td>5,007.10    No</td>\n",
       "    </tr>\n",
       "    <tr>\n",
       "      <th>1</th>\n",
       "      <td>191675</td>\n",
       "      <td>01/14/2013</td>\n",
       "      <td>2368183100</td>\n",
       "      <td>OUNHQEX XUFQONY</td>\n",
       "      <td>NaN</td>\n",
       "      <td>S1</td>\n",
       "      <td>No</td>\n",
       "      <td>NaN</td>\n",
       "      <td>Yes</td>\n",
       "      <td>NaN</td>\n",
       "      <td>43,537.00    Yes</td>\n",
       "    </tr>\n",
       "    <tr>\n",
       "      <th>2</th>\n",
       "      <td>191667</td>\n",
       "      <td>01/14/2013</td>\n",
       "      <td>3714468136</td>\n",
       "      <td>GHAKASC QHJXDFM</td>\n",
       "      <td>NaN</td>\n",
       "      <td>S1</td>\n",
       "      <td>Yes</td>\n",
       "      <td>NaN</td>\n",
       "      <td>Yes</td>\n",
       "      <td>3,172.53</td>\n",
       "      <td>Yes</td>\n",
       "    </tr>\n",
       "    <tr>\n",
       "      <th>3</th>\n",
       "      <td>191673</td>\n",
       "      <td>01/14/2013</td>\n",
       "      <td>2632703881</td>\n",
       "      <td>PAHFSAP LUVIKXZ</td>\n",
       "      <td>NaN</td>\n",
       "      <td>S1</td>\n",
       "      <td>No</td>\n",
       "      <td>NaN</td>\n",
       "      <td>Yes</td>\n",
       "      <td>983.21</td>\n",
       "      <td>No</td>\n",
       "    </tr>\n",
       "    <tr>\n",
       "      <th>4</th>\n",
       "      <td>80495</td>\n",
       "      <td>11/21/2012</td>\n",
       "      <td>2766389794</td>\n",
       "      <td>XDZANTV</td>\n",
       "      <td>NaN</td>\n",
       "      <td>S1</td>\n",
       "      <td>Yes</td>\n",
       "      <td>TGZGMOXG</td>\n",
       "      <td>Yes</td>\n",
       "      <td>NaN</td>\n",
       "      <td>903.78    Yes</td>\n",
       "    </tr>\n",
       "    <tr>\n",
       "      <th>5</th>\n",
       "      <td>80507</td>\n",
       "      <td>11/21/2012</td>\n",
       "      <td>4609266335</td>\n",
       "      <td>BWWYEZL</td>\n",
       "      <td>NaN</td>\n",
       "      <td>S1</td>\n",
       "      <td>Yes</td>\n",
       "      <td>USUKVMZO</td>\n",
       "      <td>Yes</td>\n",
       "      <td>NaN</td>\n",
       "      <td>670.31    No</td>\n",
       "    </tr>\n",
       "    <tr>\n",
       "      <th>6</th>\n",
       "      <td>80509</td>\n",
       "      <td>11/21/2012</td>\n",
       "      <td>1092717420</td>\n",
       "      <td>QJYPKVO</td>\n",
       "      <td>NaN</td>\n",
       "      <td>S1</td>\n",
       "      <td>No</td>\n",
       "      <td>DNUNTASS</td>\n",
       "      <td>Yes</td>\n",
       "      <td>NaN</td>\n",
       "      <td>848.50    Yes</td>\n",
       "    </tr>\n",
       "    <tr>\n",
       "      <th>7</th>\n",
       "      <td>80497</td>\n",
       "      <td>11/21/2012</td>\n",
       "      <td>3386366766</td>\n",
       "      <td>SOQLCMU</td>\n",
       "      <td>NaN</td>\n",
       "      <td>S1</td>\n",
       "      <td>Yes</td>\n",
       "      <td>BRHUMGJR</td>\n",
       "      <td>Yes</td>\n",
       "      <td>NaN</td>\n",
       "      <td>7.31    Yes</td>\n",
       "    </tr>\n",
       "    <tr>\n",
       "      <th>8</th>\n",
       "      <td>191669</td>\n",
       "      <td>01/14/2013</td>\n",
       "      <td>5905893739</td>\n",
       "      <td>FYIWNKA QUAFDKD</td>\n",
       "      <td>NaN</td>\n",
       "      <td>S1</td>\n",
       "      <td>Yes</td>\n",
       "      <td>NaN</td>\n",
       "      <td>Yes</td>\n",
       "      <td>9,167.93</td>\n",
       "      <td>Yes</td>\n",
       "    </tr>\n",
       "    <tr>\n",
       "      <th>9</th>\n",
       "      <td>191671</td>\n",
       "      <td>01/14/2013</td>\n",
       "      <td>2749355876</td>\n",
       "      <td>CBMJTLP NGFSEIS</td>\n",
       "      <td>NaN</td>\n",
       "      <td>S1</td>\n",
       "      <td>Yes</td>\n",
       "      <td>NaN</td>\n",
       "      <td>Yes</td>\n",
       "      <td>746.70</td>\n",
       "      <td>Yes</td>\n",
       "    </tr>\n",
       "    <tr>\n",
       "      <th>10</th>\n",
       "      <td>191674</td>\n",
       "      <td>01/14/2013</td>\n",
       "      <td>4530359106</td>\n",
       "      <td>OTAVZGH ZUQFISZ</td>\n",
       "      <td>NaN</td>\n",
       "      <td>S1</td>\n",
       "      <td>Yes</td>\n",
       "      <td>NaN</td>\n",
       "      <td>No</td>\n",
       "      <td>7,035.74</td>\n",
       "      <td>Yes</td>\n",
       "    </tr>\n",
       "    <tr>\n",
       "      <th>11</th>\n",
       "      <td>244819</td>\n",
       "      <td>02/04/2013</td>\n",
       "      <td>4679391677</td>\n",
       "      <td>EGHLQTI ABE</td>\n",
       "      <td>NaN</td>\n",
       "      <td>S1</td>\n",
       "      <td>Yes</td>\n",
       "      <td>NaN</td>\n",
       "      <td>No</td>\n",
       "      <td>NaN</td>\n",
       "      <td>89,947.13    No</td>\n",
       "    </tr>\n",
       "    <tr>\n",
       "      <th>12</th>\n",
       "      <td>96062</td>\n",
       "      <td>11/30/2012</td>\n",
       "      <td>5996493062</td>\n",
       "      <td>KTSVTADFF EHEHFMX</td>\n",
       "      <td>NaN</td>\n",
       "      <td>S1</td>\n",
       "      <td>Yes</td>\n",
       "      <td>UBNQLRCC</td>\n",
       "      <td>Yes</td>\n",
       "      <td>7.10</td>\n",
       "      <td>Yes</td>\n",
       "    </tr>\n",
       "    <tr>\n",
       "      <th>13</th>\n",
       "      <td>16527</td>\n",
       "      <td>10/17/2012</td>\n",
       "      <td>5595769375</td>\n",
       "      <td>ILCVJYC</td>\n",
       "      <td>NaN</td>\n",
       "      <td>S1</td>\n",
       "      <td>Yes</td>\n",
       "      <td>HCVZOUMY</td>\n",
       "      <td>Yes</td>\n",
       "      <td>NaN</td>\n",
       "      <td>321.19    Yes</td>\n",
       "    </tr>\n",
       "    <tr>\n",
       "      <th>14</th>\n",
       "      <td>191670</td>\n",
       "      <td>01/14/2013</td>\n",
       "      <td>1948028853</td>\n",
       "      <td>RPPDCWC UWODNIO</td>\n",
       "      <td>NaN</td>\n",
       "      <td>S1</td>\n",
       "      <td>Yes</td>\n",
       "      <td>NaN</td>\n",
       "      <td>No</td>\n",
       "      <td>9,293.80</td>\n",
       "      <td>No</td>\n",
       "    </tr>\n",
       "    <tr>\n",
       "      <th>15</th>\n",
       "      <td>191672</td>\n",
       "      <td>01/14/2013</td>\n",
       "      <td>4938823703</td>\n",
       "      <td>CTMDXXP HXOXVFF</td>\n",
       "      <td>NaN</td>\n",
       "      <td>S1</td>\n",
       "      <td>Yes</td>\n",
       "      <td>NaN</td>\n",
       "      <td>No</td>\n",
       "      <td>175.00</td>\n",
       "      <td>Yes</td>\n",
       "    </tr>\n",
       "    <tr>\n",
       "      <th>16</th>\n",
       "      <td>191668</td>\n",
       "      <td>01/14/2013</td>\n",
       "      <td>4207018603</td>\n",
       "      <td>DBZZULF QGDZQMD</td>\n",
       "      <td>NaN</td>\n",
       "      <td>S1</td>\n",
       "      <td>Yes</td>\n",
       "      <td>NaN</td>\n",
       "      <td>Yes</td>\n",
       "      <td>206.26</td>\n",
       "      <td>Yes</td>\n",
       "    </tr>\n",
       "  </tbody>\n",
       "</table>\n",
       "</div>"
      ],
      "text/plain": [
       "     Entry   Post Date  GL Account        Description  Srce. Cflow Ref.  \\\n",
       "0    16524  10/17/2012  3930621977            TXNPUES    NaN    S1  Yes   \n",
       "1   191675  01/14/2013  2368183100    OUNHQEX XUFQONY    NaN    S1   No   \n",
       "2   191667  01/14/2013  3714468136    GHAKASC QHJXDFM    NaN    S1  Yes   \n",
       "3   191673  01/14/2013  2632703881    PAHFSAP LUVIKXZ    NaN    S1   No   \n",
       "4    80495  11/21/2012  2766389794            XDZANTV    NaN    S1  Yes   \n",
       "5    80507  11/21/2012  4609266335            BWWYEZL    NaN    S1  Yes   \n",
       "6    80509  11/21/2012  1092717420            QJYPKVO    NaN    S1   No   \n",
       "7    80497  11/21/2012  3386366766            SOQLCMU    NaN    S1  Yes   \n",
       "8   191669  01/14/2013  5905893739    FYIWNKA QUAFDKD    NaN    S1  Yes   \n",
       "9   191671  01/14/2013  2749355876    CBMJTLP NGFSEIS    NaN    S1  Yes   \n",
       "10  191674  01/14/2013  4530359106    OTAVZGH ZUQFISZ    NaN    S1  Yes   \n",
       "11  244819  02/04/2013  4679391677        EGHLQTI ABE    NaN    S1  Yes   \n",
       "12   96062  11/30/2012  5996493062  KTSVTADFF EHEHFMX    NaN    S1  Yes   \n",
       "13   16527  10/17/2012  5595769375            ILCVJYC    NaN    S1  Yes   \n",
       "14  191670  01/14/2013  1948028853    RPPDCWC UWODNIO    NaN    S1  Yes   \n",
       "15  191672  01/14/2013  4938823703    CTMDXXP HXOXVFF    NaN    S1  Yes   \n",
       "16  191668  01/14/2013  4207018603    DBZZULF QGDZQMD    NaN    S1  Yes   \n",
       "\n",
       "        Post Debit    Credit            Alloc.  \n",
       "0   RHMXWPCP   Yes       NaN    5,007.10    No  \n",
       "1        NaN   Yes       NaN  43,537.00    Yes  \n",
       "2        NaN   Yes  3,172.53               Yes  \n",
       "3        NaN   Yes    983.21                No  \n",
       "4   TGZGMOXG   Yes       NaN     903.78    Yes  \n",
       "5   USUKVMZO   Yes       NaN      670.31    No  \n",
       "6   DNUNTASS   Yes       NaN     848.50    Yes  \n",
       "7   BRHUMGJR   Yes       NaN       7.31    Yes  \n",
       "8        NaN   Yes  9,167.93               Yes  \n",
       "9        NaN   Yes    746.70               Yes  \n",
       "10       NaN    No  7,035.74               Yes  \n",
       "11       NaN    No       NaN   89,947.13    No  \n",
       "12  UBNQLRCC   Yes      7.10               Yes  \n",
       "13  HCVZOUMY   Yes       NaN     321.19    Yes  \n",
       "14       NaN    No  9,293.80                No  \n",
       "15       NaN    No    175.00               Yes  \n",
       "16       NaN   Yes    206.26               Yes  "
      ]
     },
     "execution_count": 3,
     "metadata": {},
     "output_type": "execute_result"
    }
   ],
   "source": [
    "fwf_file_url = \"https://raw.githubusercontent.com/vinodvidhole/pandas-datasource/main/FixedWidth.txt\"\n",
    "fwf_df = pd.read_fwf(fwf_file_url,\n",
    "                     skiprows=7,\n",
    "                     skipfooter=9,\n",
    "                     index_col=False,\n",
    "                     names=['Entry','Post Date','GL Account','Description','Srce.','Cflow','Ref.','Post','Debit','Credit','Alloc.'])\n",
    "fwf_df"
   ]
  },
  {
   "cell_type": "markdown",
   "metadata": {},
   "source": [
    "Also checkout how other parameters used ( skiprows, skipfooter, index_col, names) to filter unwanted rows and getting proper tabular format."
   ]
  },
  {
   "cell_type": "markdown",
   "metadata": {},
   "source": [
    "### 1.3 JSON Format:\n",
    "JSON stands for JavaScript Object Notation. It is a lightweight format for storing and transporting data.JSON is often used when data is sent from a server to a web page. JSON is \"self-describing\" and easy to understand\n",
    "\n",
    "**pd.read_json() :** Convert a JSON string to pandas object.\n"
   ]
  },
  {
   "cell_type": "code",
   "execution_count": 4,
   "metadata": {},
   "outputs": [
    {
     "data": {
      "text/html": [
       "<div>\n",
       "<style scoped>\n",
       "    .dataframe tbody tr th:only-of-type {\n",
       "        vertical-align: middle;\n",
       "    }\n",
       "\n",
       "    .dataframe tbody tr th {\n",
       "        vertical-align: top;\n",
       "    }\n",
       "\n",
       "    .dataframe thead th {\n",
       "        text-align: right;\n",
       "    }\n",
       "</style>\n",
       "<table border=\"1\" class=\"dataframe\">\n",
       "  <thead>\n",
       "    <tr style=\"text-align: right;\">\n",
       "      <th></th>\n",
       "      <th>Symbol</th>\n",
       "      <th>Name</th>\n",
       "      <th>Last Price</th>\n",
       "      <th>Market Time</th>\n",
       "      <th>Change</th>\n",
       "      <th>% Change</th>\n",
       "      <th>Volume</th>\n",
       "      <th>Market Cap</th>\n",
       "    </tr>\n",
       "  </thead>\n",
       "  <tbody>\n",
       "    <tr>\n",
       "      <th>0</th>\n",
       "      <td>WFC</td>\n",
       "      <td>Wells Fargo &amp; Company</td>\n",
       "      <td>38.74</td>\n",
       "      <td>4:03PM EDT</td>\n",
       "      <td>-0.33</td>\n",
       "      <td>-0.84%</td>\n",
       "      <td>23.957M</td>\n",
       "      <td>146.838B</td>\n",
       "    </tr>\n",
       "    <tr>\n",
       "      <th>1</th>\n",
       "      <td>PINS</td>\n",
       "      <td>Pinterest, Inc.</td>\n",
       "      <td>17.56</td>\n",
       "      <td>4:02PM EDT</td>\n",
       "      <td>-0.85</td>\n",
       "      <td>-4.62%</td>\n",
       "      <td>9.718M</td>\n",
       "      <td>11.651B</td>\n",
       "    </tr>\n",
       "    <tr>\n",
       "      <th>2</th>\n",
       "      <td>BLK</td>\n",
       "      <td>BlackRock, Inc.</td>\n",
       "      <td>588.63</td>\n",
       "      <td>4:00PM EDT</td>\n",
       "      <td>-7.75</td>\n",
       "      <td>-1.30%</td>\n",
       "      <td>1.137M</td>\n",
       "      <td>89.179B</td>\n",
       "    </tr>\n",
       "    <tr>\n",
       "      <th>3</th>\n",
       "      <td>UNH</td>\n",
       "      <td>UnitedHealth Group Incorporated</td>\n",
       "      <td>502.43</td>\n",
       "      <td>4:00PM EDT</td>\n",
       "      <td>1.19</td>\n",
       "      <td>0.0024</td>\n",
       "      <td>3.765M</td>\n",
       "      <td>471.366B</td>\n",
       "    </tr>\n",
       "    <tr>\n",
       "      <th>4</th>\n",
       "      <td>TLRY</td>\n",
       "      <td>Tilray Brands, Inc.</td>\n",
       "      <td>3.69</td>\n",
       "      <td>4:00PM EDT</td>\n",
       "      <td>0.47</td>\n",
       "      <td>0.146</td>\n",
       "      <td>64.051M</td>\n",
       "      <td>1.959B</td>\n",
       "    </tr>\n",
       "  </tbody>\n",
       "</table>\n",
       "</div>"
      ],
      "text/plain": [
       "  Symbol                             Name Last Price Market Time  Change  \\\n",
       "0    WFC            Wells Fargo & Company      38.74  4:03PM EDT   -0.33   \n",
       "1   PINS                  Pinterest, Inc.      17.56  4:02PM EDT   -0.85   \n",
       "2    BLK                  BlackRock, Inc.     588.63  4:00PM EDT   -7.75   \n",
       "3    UNH  UnitedHealth Group Incorporated     502.43  4:00PM EDT    1.19   \n",
       "4   TLRY              Tilray Brands, Inc.       3.69  4:00PM EDT    0.47   \n",
       "\n",
       "  % Change   Volume Market Cap  \n",
       "0   -0.84%  23.957M   146.838B  \n",
       "1   -4.62%   9.718M    11.651B  \n",
       "2   -1.30%   1.137M    89.179B  \n",
       "3   0.0024   3.765M   471.366B  \n",
       "4    0.146  64.051M     1.959B  "
      ]
     },
     "execution_count": 4,
     "metadata": {},
     "output_type": "execute_result"
    }
   ],
   "source": [
    "json_df = pd.read_json(\"https://raw.githubusercontent.com/vinodvidhole/pandas-datasource/main/ticker.json\")\n",
    "json_df.head(5)"
   ]
  },
  {
   "cell_type": "markdown",
   "metadata": {},
   "source": [
    "### 1.4 HTML Format:\n",
    "HTML (HyperText Markup Language) is the code that is used to structure a web page and its content. \n",
    "\n",
    "**pd.read_html() :** Read HTML tables into a list of DataFrame objects."
   ]
  },
  {
   "cell_type": "code",
   "execution_count": 5,
   "metadata": {},
   "outputs": [],
   "source": [
    "html_dfs = pd.read_html('https://en.wikipedia.org/wiki/Pythonidae')"
   ]
  },
  {
   "cell_type": "code",
   "execution_count": 6,
   "metadata": {},
   "outputs": [
    {
     "data": {
      "text/html": [
       "<div>\n",
       "<style scoped>\n",
       "    .dataframe tbody tr th:only-of-type {\n",
       "        vertical-align: middle;\n",
       "    }\n",
       "\n",
       "    .dataframe tbody tr th {\n",
       "        vertical-align: top;\n",
       "    }\n",
       "\n",
       "    .dataframe thead th {\n",
       "        text-align: right;\n",
       "    }\n",
       "</style>\n",
       "<table border=\"1\" class=\"dataframe\">\n",
       "  <thead>\n",
       "    <tr style=\"text-align: right;\">\n",
       "      <th></th>\n",
       "      <th>0</th>\n",
       "      <th>1</th>\n",
       "    </tr>\n",
       "  </thead>\n",
       "  <tbody>\n",
       "    <tr>\n",
       "      <th>0</th>\n",
       "      <td>NaN</td>\n",
       "      <td>This article's lead section may be too short t...</td>\n",
       "    </tr>\n",
       "  </tbody>\n",
       "</table>\n",
       "</div>"
      ],
      "text/plain": [
       "    0                                                  1\n",
       "0 NaN  This article's lead section may be too short t..."
      ]
     },
     "metadata": {},
     "output_type": "display_data"
    },
    {
     "data": {
      "text/html": [
       "<div>\n",
       "<style scoped>\n",
       "    .dataframe tbody tr th:only-of-type {\n",
       "        vertical-align: middle;\n",
       "    }\n",
       "\n",
       "    .dataframe tbody tr th {\n",
       "        vertical-align: top;\n",
       "    }\n",
       "\n",
       "    .dataframe thead th {\n",
       "        text-align: right;\n",
       "    }\n",
       "</style>\n",
       "<table border=\"1\" class=\"dataframe\">\n",
       "  <thead>\n",
       "    <tr style=\"text-align: right;\">\n",
       "      <th></th>\n",
       "      <th>Pythonidae</th>\n",
       "      <th>Pythonidae.1</th>\n",
       "    </tr>\n",
       "  </thead>\n",
       "  <tbody>\n",
       "    <tr>\n",
       "      <th>0</th>\n",
       "      <td>NaN</td>\n",
       "      <td>NaN</td>\n",
       "    </tr>\n",
       "    <tr>\n",
       "      <th>1</th>\n",
       "      <td>Indian python (Python molurus)</td>\n",
       "      <td>Indian python (Python molurus)</td>\n",
       "    </tr>\n",
       "    <tr>\n",
       "      <th>2</th>\n",
       "      <td>Scientific classification</td>\n",
       "      <td>Scientific classification</td>\n",
       "    </tr>\n",
       "  </tbody>\n",
       "</table>\n",
       "</div>"
      ],
      "text/plain": [
       "                       Pythonidae                    Pythonidae.1\n",
       "0                             NaN                             NaN\n",
       "1  Indian python (Python molurus)  Indian python (Python molurus)\n",
       "2       Scientific classification       Scientific classification"
      ]
     },
     "metadata": {},
     "output_type": "display_data"
    },
    {
     "data": {
      "text/html": [
       "<div>\n",
       "<style scoped>\n",
       "    .dataframe tbody tr th:only-of-type {\n",
       "        vertical-align: middle;\n",
       "    }\n",
       "\n",
       "    .dataframe tbody tr th {\n",
       "        vertical-align: top;\n",
       "    }\n",
       "\n",
       "    .dataframe thead th {\n",
       "        text-align: right;\n",
       "    }\n",
       "</style>\n",
       "<table border=\"1\" class=\"dataframe\">\n",
       "  <thead>\n",
       "    <tr style=\"text-align: right;\">\n",
       "      <th></th>\n",
       "      <th>Genus[2]</th>\n",
       "      <th>Taxon author[2]</th>\n",
       "      <th>Species[2]</th>\n",
       "      <th>Subsp.[a][2]</th>\n",
       "      <th>Common name</th>\n",
       "      <th>Geographic range[1]</th>\n",
       "    </tr>\n",
       "  </thead>\n",
       "  <tbody>\n",
       "    <tr>\n",
       "      <th>0</th>\n",
       "      <td>Antaresia</td>\n",
       "      <td>Wells &amp; Wellington, 1984</td>\n",
       "      <td>4</td>\n",
       "      <td>2</td>\n",
       "      <td>Children's pythons</td>\n",
       "      <td>Australia in arid and tropical regions</td>\n",
       "    </tr>\n",
       "    <tr>\n",
       "      <th>1</th>\n",
       "      <td>Apodora[13]</td>\n",
       "      <td>Kluge, 1993</td>\n",
       "      <td>1</td>\n",
       "      <td>0</td>\n",
       "      <td>Papuan olive python</td>\n",
       "      <td>Papua New Guinea</td>\n",
       "    </tr>\n",
       "    <tr>\n",
       "      <th>2</th>\n",
       "      <td>Aspidites</td>\n",
       "      <td>Peters, 1877</td>\n",
       "      <td>2</td>\n",
       "      <td>0</td>\n",
       "      <td>Shield pythons</td>\n",
       "      <td>Australia except in the south of the country</td>\n",
       "    </tr>\n",
       "  </tbody>\n",
       "</table>\n",
       "</div>"
      ],
      "text/plain": [
       "      Genus[2]           Taxon author[2]  Species[2]  Subsp.[a][2]  \\\n",
       "0    Antaresia  Wells & Wellington, 1984           4             2   \n",
       "1  Apodora[13]               Kluge, 1993           1             0   \n",
       "2    Aspidites              Peters, 1877           2             0   \n",
       "\n",
       "           Common name                           Geographic range[1]  \n",
       "0   Children's pythons        Australia in arid and tropical regions  \n",
       "1  Papuan olive python                              Papua New Guinea  \n",
       "2       Shield pythons  Australia except in the south of the country  "
      ]
     },
     "metadata": {},
     "output_type": "display_data"
    },
    {
     "data": {
      "text/html": [
       "<div>\n",
       "<style scoped>\n",
       "    .dataframe tbody tr th:only-of-type {\n",
       "        vertical-align: middle;\n",
       "    }\n",
       "\n",
       "    .dataframe tbody tr th {\n",
       "        vertical-align: top;\n",
       "    }\n",
       "\n",
       "    .dataframe thead th {\n",
       "        text-align: right;\n",
       "    }\n",
       "</style>\n",
       "<table border=\"1\" class=\"dataframe\">\n",
       "  <thead>\n",
       "    <tr style=\"text-align: right;\">\n",
       "      <th></th>\n",
       "      <th>.mw-parser-output .navbar{display:inline;font-size:88%;font-weight:normal}.mw-parser-output .navbar-collapse{float:left;text-align:left}.mw-parser-output .navbar-boxtext{word-spacing:0}.mw-parser-output .navbar ul{display:inline-block;white-space:nowrap;line-height:inherit}.mw-parser-output .navbar-brackets::before{margin-right:-0.125em;content:\"[ \"}.mw-parser-output .navbar-brackets::after{margin-left:-0.125em;content:\" ]\"}.mw-parser-output .navbar li{word-spacing:-0.125em}.mw-parser-output .navbar a&gt;span,.mw-parser-output .navbar a&gt;abbr{text-decoration:inherit}.mw-parser-output .navbar-mini abbr{font-variant:small-caps;border-bottom:none;text-decoration:none;cursor:inherit}.mw-parser-output .navbar-ct-full{font-size:114%;margin:0 7em}.mw-parser-output .navbar-ct-mini{font-size:114%;margin:0 4em}vteFamily Pythonidae</th>\n",
       "      <th>.mw-parser-output .navbar{display:inline;font-size:88%;font-weight:normal}.mw-parser-output .navbar-collapse{float:left;text-align:left}.mw-parser-output .navbar-boxtext{word-spacing:0}.mw-parser-output .navbar ul{display:inline-block;white-space:nowrap;line-height:inherit}.mw-parser-output .navbar-brackets::before{margin-right:-0.125em;content:\"[ \"}.mw-parser-output .navbar-brackets::after{margin-left:-0.125em;content:\" ]\"}.mw-parser-output .navbar li{word-spacing:-0.125em}.mw-parser-output .navbar a&gt;span,.mw-parser-output .navbar a&gt;abbr{text-decoration:inherit}.mw-parser-output .navbar-mini abbr{font-variant:small-caps;border-bottom:none;text-decoration:none;cursor:inherit}.mw-parser-output .navbar-ct-full{font-size:114%;margin:0 7em}.mw-parser-output .navbar-ct-mini{font-size:114%;margin:0 4em}vteFamily Pythonidae.1</th>\n",
       "    </tr>\n",
       "  </thead>\n",
       "  <tbody>\n",
       "    <tr>\n",
       "      <th>0</th>\n",
       "      <td>Antaresia</td>\n",
       "      <td>Antaresia childreni Antaresia maculosa Antares...</td>\n",
       "    </tr>\n",
       "    <tr>\n",
       "      <th>1</th>\n",
       "      <td>Apodora</td>\n",
       "      <td>Apodora papuana</td>\n",
       "    </tr>\n",
       "    <tr>\n",
       "      <th>2</th>\n",
       "      <td>Aspidites</td>\n",
       "      <td>Aspidites melanocephalus Aspidites ramsayi</td>\n",
       "    </tr>\n",
       "  </tbody>\n",
       "</table>\n",
       "</div>"
      ],
      "text/plain": [
       "  .mw-parser-output .navbar{display:inline;font-size:88%;font-weight:normal}.mw-parser-output .navbar-collapse{float:left;text-align:left}.mw-parser-output .navbar-boxtext{word-spacing:0}.mw-parser-output .navbar ul{display:inline-block;white-space:nowrap;line-height:inherit}.mw-parser-output .navbar-brackets::before{margin-right:-0.125em;content:\"[ \"}.mw-parser-output .navbar-brackets::after{margin-left:-0.125em;content:\" ]\"}.mw-parser-output .navbar li{word-spacing:-0.125em}.mw-parser-output .navbar a>span,.mw-parser-output .navbar a>abbr{text-decoration:inherit}.mw-parser-output .navbar-mini abbr{font-variant:small-caps;border-bottom:none;text-decoration:none;cursor:inherit}.mw-parser-output .navbar-ct-full{font-size:114%;margin:0 7em}.mw-parser-output .navbar-ct-mini{font-size:114%;margin:0 4em}vteFamily Pythonidae  \\\n",
       "0                                          Antaresia                                                                                                                                                                                                                                                                                                                                                                                                                                                                                                                                                                                                                                                                                                                                                                                                             \n",
       "1                                            Apodora                                                                                                                                                                                                                                                                                                                                                                                                                                                                                                                                                                                                                                                                                                                                                                                                             \n",
       "2                                          Aspidites                                                                                                                                                                                                                                                                                                                                                                                                                                                                                                                                                                                                                                                                                                                                                                                                             \n",
       "\n",
       "  .mw-parser-output .navbar{display:inline;font-size:88%;font-weight:normal}.mw-parser-output .navbar-collapse{float:left;text-align:left}.mw-parser-output .navbar-boxtext{word-spacing:0}.mw-parser-output .navbar ul{display:inline-block;white-space:nowrap;line-height:inherit}.mw-parser-output .navbar-brackets::before{margin-right:-0.125em;content:\"[ \"}.mw-parser-output .navbar-brackets::after{margin-left:-0.125em;content:\" ]\"}.mw-parser-output .navbar li{word-spacing:-0.125em}.mw-parser-output .navbar a>span,.mw-parser-output .navbar a>abbr{text-decoration:inherit}.mw-parser-output .navbar-mini abbr{font-variant:small-caps;border-bottom:none;text-decoration:none;cursor:inherit}.mw-parser-output .navbar-ct-full{font-size:114%;margin:0 7em}.mw-parser-output .navbar-ct-mini{font-size:114%;margin:0 4em}vteFamily Pythonidae.1  \n",
       "0  Antaresia childreni Antaresia maculosa Antares...                                                                                                                                                                                                                                                                                                                                                                                                                                                                                                                                                                                                                                                                                                                                                                                                              \n",
       "1                                    Apodora papuana                                                                                                                                                                                                                                                                                                                                                                                                                                                                                                                                                                                                                                                                                                                                                                                                              \n",
       "2         Aspidites melanocephalus Aspidites ramsayi                                                                                                                                                                                                                                                                                                                                                                                                                                                                                                                                                                                                                                                                                                                                                                                                              "
      ]
     },
     "metadata": {},
     "output_type": "display_data"
    },
    {
     "data": {
      "text/html": [
       "<div>\n",
       "<style scoped>\n",
       "    .dataframe tbody tr th:only-of-type {\n",
       "        vertical-align: middle;\n",
       "    }\n",
       "\n",
       "    .dataframe tbody tr th {\n",
       "        vertical-align: top;\n",
       "    }\n",
       "\n",
       "    .dataframe thead th {\n",
       "        text-align: right;\n",
       "    }\n",
       "</style>\n",
       "<table border=\"1\" class=\"dataframe\">\n",
       "  <thead>\n",
       "    <tr style=\"text-align: right;\">\n",
       "      <th></th>\n",
       "      <th>vteSnake families</th>\n",
       "      <th>vteSnake families.1</th>\n",
       "    </tr>\n",
       "  </thead>\n",
       "  <tbody>\n",
       "    <tr>\n",
       "      <th>0</th>\n",
       "      <td>Kingdom: Animalia Phylum: Chordata Class: Rept...</td>\n",
       "      <td>Kingdom: Animalia Phylum: Chordata Class: Rept...</td>\n",
       "    </tr>\n",
       "    <tr>\n",
       "      <th>1</th>\n",
       "      <td>Alethinophidia</td>\n",
       "      <td>Acrochordidae Aniliidae Anomochilidae Atractas...</td>\n",
       "    </tr>\n",
       "    <tr>\n",
       "      <th>2</th>\n",
       "      <td>Scolecophidia</td>\n",
       "      <td>Anomalepididae Gerrhopilidae Leptotyphlopidae ...</td>\n",
       "    </tr>\n",
       "  </tbody>\n",
       "</table>\n",
       "</div>"
      ],
      "text/plain": [
       "                                   vteSnake families  \\\n",
       "0  Kingdom: Animalia Phylum: Chordata Class: Rept...   \n",
       "1                                     Alethinophidia   \n",
       "2                                      Scolecophidia   \n",
       "\n",
       "                                 vteSnake families.1  \n",
       "0  Kingdom: Animalia Phylum: Chordata Class: Rept...  \n",
       "1  Acrochordidae Aniliidae Anomochilidae Atractas...  \n",
       "2  Anomalepididae Gerrhopilidae Leptotyphlopidae ...  "
      ]
     },
     "metadata": {},
     "output_type": "display_data"
    },
    {
     "data": {
      "text/html": [
       "<div>\n",
       "<style scoped>\n",
       "    .dataframe tbody tr th:only-of-type {\n",
       "        vertical-align: middle;\n",
       "    }\n",
       "\n",
       "    .dataframe tbody tr th {\n",
       "        vertical-align: top;\n",
       "    }\n",
       "\n",
       "    .dataframe thead th {\n",
       "        text-align: right;\n",
       "    }\n",
       "</style>\n",
       "<table border=\"1\" class=\"dataframe\">\n",
       "  <thead>\n",
       "    <tr style=\"text-align: right;\">\n",
       "      <th></th>\n",
       "      <th>0</th>\n",
       "      <th>1</th>\n",
       "    </tr>\n",
       "  </thead>\n",
       "  <tbody>\n",
       "    <tr>\n",
       "      <th>0</th>\n",
       "      <td>Taxon identifiers</td>\n",
       "      <td>Wikidata: Q184018 Wikispecies: Pythonidae AFD:...</td>\n",
       "    </tr>\n",
       "  </tbody>\n",
       "</table>\n",
       "</div>"
      ],
      "text/plain": [
       "                   0                                                  1\n",
       "0  Taxon identifiers  Wikidata: Q184018 Wikispecies: Pythonidae AFD:..."
      ]
     },
     "metadata": {},
     "output_type": "display_data"
    },
    {
     "data": {
      "text/html": [
       "<div>\n",
       "<style scoped>\n",
       "    .dataframe tbody tr th:only-of-type {\n",
       "        vertical-align: middle;\n",
       "    }\n",
       "\n",
       "    .dataframe tbody tr th {\n",
       "        vertical-align: top;\n",
       "    }\n",
       "\n",
       "    .dataframe thead th {\n",
       "        text-align: right;\n",
       "    }\n",
       "</style>\n",
       "<table border=\"1\" class=\"dataframe\">\n",
       "  <thead>\n",
       "    <tr style=\"text-align: right;\">\n",
       "      <th></th>\n",
       "      <th>0</th>\n",
       "      <th>1</th>\n",
       "    </tr>\n",
       "  </thead>\n",
       "  <tbody>\n",
       "    <tr>\n",
       "      <th>0</th>\n",
       "      <td>Authority control: National libraries</td>\n",
       "      <td>Germany Israel United States Latvia Czech Repu...</td>\n",
       "    </tr>\n",
       "  </tbody>\n",
       "</table>\n",
       "</div>"
      ],
      "text/plain": [
       "                                       0  \\\n",
       "0  Authority control: National libraries   \n",
       "\n",
       "                                                   1  \n",
       "0  Germany Israel United States Latvia Czech Repu...  "
      ]
     },
     "metadata": {},
     "output_type": "display_data"
    }
   ],
   "source": [
    "for html_df in html_dfs:\n",
    "    display(html_df.head(3))"
   ]
  },
  {
   "cell_type": "markdown",
   "metadata": {},
   "source": [
    "### 1.5 XML Format:\n",
    "The Extensible Markup Language (XML) is a simple text-based format for representing structured information: documents, data, configuration, books, transactions, invoices, and much more\n",
    "\n",
    "**pd.read_xml() :** Read XML document into a DataFrame object."
   ]
  },
  {
   "cell_type": "code",
   "execution_count": 7,
   "metadata": {},
   "outputs": [
    {
     "data": {
      "text/html": [
       "<div>\n",
       "<style scoped>\n",
       "    .dataframe tbody tr th:only-of-type {\n",
       "        vertical-align: middle;\n",
       "    }\n",
       "\n",
       "    .dataframe tbody tr th {\n",
       "        vertical-align: top;\n",
       "    }\n",
       "\n",
       "    .dataframe thead th {\n",
       "        text-align: right;\n",
       "    }\n",
       "</style>\n",
       "<table border=\"1\" class=\"dataframe\">\n",
       "  <thead>\n",
       "    <tr style=\"text-align: right;\">\n",
       "      <th></th>\n",
       "      <th>id</th>\n",
       "      <th>author</th>\n",
       "      <th>title</th>\n",
       "      <th>genre</th>\n",
       "      <th>price</th>\n",
       "      <th>publish_date</th>\n",
       "      <th>description</th>\n",
       "    </tr>\n",
       "  </thead>\n",
       "  <tbody>\n",
       "    <tr>\n",
       "      <th>0</th>\n",
       "      <td>bk101</td>\n",
       "      <td>Gambardella, Matthew</td>\n",
       "      <td>XML Developer's Guide</td>\n",
       "      <td>Computer</td>\n",
       "      <td>44.95</td>\n",
       "      <td>2000-10-01</td>\n",
       "      <td>An in-depth look at creating applications \\n  ...</td>\n",
       "    </tr>\n",
       "    <tr>\n",
       "      <th>1</th>\n",
       "      <td>bk102</td>\n",
       "      <td>Ralls, Kim</td>\n",
       "      <td>Midnight Rain</td>\n",
       "      <td>Fantasy</td>\n",
       "      <td>5.95</td>\n",
       "      <td>2000-12-16</td>\n",
       "      <td>A former architect battles corporate zombies, ...</td>\n",
       "    </tr>\n",
       "    <tr>\n",
       "      <th>2</th>\n",
       "      <td>bk103</td>\n",
       "      <td>Corets, Eva</td>\n",
       "      <td>Maeve Ascendant</td>\n",
       "      <td>Fantasy</td>\n",
       "      <td>5.95</td>\n",
       "      <td>2000-11-17</td>\n",
       "      <td>After the collapse of a nanotechnology \\n     ...</td>\n",
       "    </tr>\n",
       "    <tr>\n",
       "      <th>3</th>\n",
       "      <td>bk104</td>\n",
       "      <td>Corets, Eva</td>\n",
       "      <td>Oberon's Legacy</td>\n",
       "      <td>Fantasy</td>\n",
       "      <td>5.95</td>\n",
       "      <td>2001-03-10</td>\n",
       "      <td>In post-apocalypse England, the mysterious \\n ...</td>\n",
       "    </tr>\n",
       "  </tbody>\n",
       "</table>\n",
       "</div>"
      ],
      "text/plain": [
       "      id                author                  title     genre  price  \\\n",
       "0  bk101  Gambardella, Matthew  XML Developer's Guide  Computer  44.95   \n",
       "1  bk102            Ralls, Kim          Midnight Rain   Fantasy   5.95   \n",
       "2  bk103           Corets, Eva        Maeve Ascendant   Fantasy   5.95   \n",
       "3  bk104           Corets, Eva        Oberon's Legacy   Fantasy   5.95   \n",
       "\n",
       "  publish_date                                        description  \n",
       "0   2000-10-01  An in-depth look at creating applications \\n  ...  \n",
       "1   2000-12-16  A former architect battles corporate zombies, ...  \n",
       "2   2000-11-17  After the collapse of a nanotechnology \\n     ...  \n",
       "3   2001-03-10  In post-apocalypse England, the mysterious \\n ...  "
      ]
     },
     "execution_count": 7,
     "metadata": {},
     "output_type": "execute_result"
    }
   ],
   "source": [
    "pd.read_xml(\"https://raw.githubusercontent.com/vinodvidhole/pandas-datasource/main/books.xml\").head(4)"
   ]
  },
  {
   "cell_type": "markdown",
   "metadata": {},
   "source": [
    "### 1.6 Hierarchical Data Format (HDF):\n",
    "\n",
    "HDF files are Hierarchical Data Format Files by which they are the standardized file format for scientific data storage. These files are categorized as data files used mainly in non-destructive testing, aerospace applications, environmental science and neutron scattering. HDF files can be manipulated, viewed, analyzed, visualized as well as converted into scientific data with the use of HDF tools. Files with the HDF extension allow users to point out dependencies as well as complicated data relations and they are also very flexible and powerful formats. HDF files use two common versions and these are the HDF4 and HDF5 by which each version has software libraries containing the functions used to analyze and manipulate HDF file data. There are actually a lot of programs that can open HDF files and one of these applications is the GDAL or The Geospatial Data Abstraction Library. This application is used mainly for raster geospatial data formats.\n",
    "\n",
    "Check out below links to learn more about HDF<br> \n",
    "https://www.hdfgroup.org/<br>\n",
    "https://www.youtube.com/watch?v=q14F3WRwSck<br> \n",
    "https://www.youtube.com/watch?v=S74Kc8QYDac\n",
    "\n",
    "**df.to_hdf() :** Write the contained data to an HDF5 file using HDFStore.\n",
    "\n",
    "**pd.read_hdf() :** Read HDF files into pandas dataframe "
   ]
  },
  {
   "cell_type": "markdown",
   "metadata": {},
   "source": [
    "To explain more about this file format , first we will create the multi index pandas data frame. code mentioned below."
   ]
  },
  {
   "cell_type": "code",
   "execution_count": 8,
   "metadata": {},
   "outputs": [
    {
     "data": {
      "text/html": [
       "<div>\n",
       "<style scoped>\n",
       "    .dataframe tbody tr th:only-of-type {\n",
       "        vertical-align: middle;\n",
       "    }\n",
       "\n",
       "    .dataframe tbody tr th {\n",
       "        vertical-align: top;\n",
       "    }\n",
       "\n",
       "    .dataframe thead tr th {\n",
       "        text-align: left;\n",
       "    }\n",
       "\n",
       "    .dataframe thead tr:last-of-type th {\n",
       "        text-align: right;\n",
       "    }\n",
       "</style>\n",
       "<table border=\"1\" class=\"dataframe\">\n",
       "  <thead>\n",
       "    <tr>\n",
       "      <th></th>\n",
       "      <th>subject</th>\n",
       "      <th colspan=\"2\" halign=\"left\">Bob</th>\n",
       "      <th colspan=\"2\" halign=\"left\">Guido</th>\n",
       "      <th colspan=\"2\" halign=\"left\">Sue</th>\n",
       "    </tr>\n",
       "    <tr>\n",
       "      <th></th>\n",
       "      <th>type</th>\n",
       "      <th>HR</th>\n",
       "      <th>Temp</th>\n",
       "      <th>HR</th>\n",
       "      <th>Temp</th>\n",
       "      <th>HR</th>\n",
       "      <th>Temp</th>\n",
       "    </tr>\n",
       "    <tr>\n",
       "      <th>year</th>\n",
       "      <th>visit</th>\n",
       "      <th></th>\n",
       "      <th></th>\n",
       "      <th></th>\n",
       "      <th></th>\n",
       "      <th></th>\n",
       "      <th></th>\n",
       "    </tr>\n",
       "  </thead>\n",
       "  <tbody>\n",
       "    <tr>\n",
       "      <th rowspan=\"2\" valign=\"top\">2013</th>\n",
       "      <th>1</th>\n",
       "      <td>31.0</td>\n",
       "      <td>38.5</td>\n",
       "      <td>31.0</td>\n",
       "      <td>36.1</td>\n",
       "      <td>52.0</td>\n",
       "      <td>36.4</td>\n",
       "    </tr>\n",
       "    <tr>\n",
       "      <th>2</th>\n",
       "      <td>45.0</td>\n",
       "      <td>35.7</td>\n",
       "      <td>40.0</td>\n",
       "      <td>37.5</td>\n",
       "      <td>52.0</td>\n",
       "      <td>37.6</td>\n",
       "    </tr>\n",
       "    <tr>\n",
       "      <th rowspan=\"2\" valign=\"top\">2014</th>\n",
       "      <th>1</th>\n",
       "      <td>36.0</td>\n",
       "      <td>37.0</td>\n",
       "      <td>40.0</td>\n",
       "      <td>37.0</td>\n",
       "      <td>29.0</td>\n",
       "      <td>37.5</td>\n",
       "    </tr>\n",
       "    <tr>\n",
       "      <th>2</th>\n",
       "      <td>38.0</td>\n",
       "      <td>36.2</td>\n",
       "      <td>25.0</td>\n",
       "      <td>37.2</td>\n",
       "      <td>26.0</td>\n",
       "      <td>35.9</td>\n",
       "    </tr>\n",
       "  </tbody>\n",
       "</table>\n",
       "</div>"
      ],
      "text/plain": [
       "subject      Bob       Guido         Sue      \n",
       "type          HR  Temp    HR  Temp    HR  Temp\n",
       "year visit                                    \n",
       "2013 1      31.0  38.5  31.0  36.1  52.0  36.4\n",
       "     2      45.0  35.7  40.0  37.5  52.0  37.6\n",
       "2014 1      36.0  37.0  40.0  37.0  29.0  37.5\n",
       "     2      38.0  36.2  25.0  37.2  26.0  35.9"
      ]
     },
     "execution_count": 8,
     "metadata": {},
     "output_type": "execute_result"
    }
   ],
   "source": [
    "import numpy as np\n",
    "# hierarchical indices and columns\n",
    "index = pd.MultiIndex.from_product([[2013, 2014], [1, 2]],\n",
    "                                   names=['year', 'visit'])\n",
    "columns = pd.MultiIndex.from_product([['Bob', 'Guido', 'Sue'], ['HR', 'Temp']],\n",
    "                                     names=['subject', 'type'])\n",
    "\n",
    "# mock some data\n",
    "data = np.round(np.random.randn(4, 6), 1)\n",
    "data[:, ::2] *= 10\n",
    "data += 37\n",
    "\n",
    "# create the DataFrame\n",
    "health_data = pd.DataFrame(data, index=index, columns=columns)\n",
    "health_data"
   ]
  },
  {
   "cell_type": "markdown",
   "metadata": {},
   "source": [
    "Now you can cave this the multi index data frame to HDF file format "
   ]
  },
  {
   "cell_type": "code",
   "execution_count": 9,
   "metadata": {},
   "outputs": [],
   "source": [
    "health_data.to_hdf('sample_hdf.h5',key='health_data')"
   ]
  },
  {
   "cell_type": "markdown",
   "metadata": {},
   "source": [
    "To view HDF file we need special tool called as \"HDF VIEW\", you can down load this from https://www.hdfgroup.org/downloads/hdfview/\n",
    "\n",
    "I have downloaded the 'sample_hdf.h5' file to my computer and opened it in \"HDF VIEW\" \n",
    "\n",
    "![](https://i.imgur.com/MtXP5D2.png)\n",
    "\n",
    "Now you can use pd.read_hdf() to read this HDF file  "
   ]
  },
  {
   "cell_type": "code",
   "execution_count": 10,
   "metadata": {},
   "outputs": [
    {
     "data": {
      "text/html": [
       "<div>\n",
       "<style scoped>\n",
       "    .dataframe tbody tr th:only-of-type {\n",
       "        vertical-align: middle;\n",
       "    }\n",
       "\n",
       "    .dataframe tbody tr th {\n",
       "        vertical-align: top;\n",
       "    }\n",
       "\n",
       "    .dataframe thead tr th {\n",
       "        text-align: left;\n",
       "    }\n",
       "\n",
       "    .dataframe thead tr:last-of-type th {\n",
       "        text-align: right;\n",
       "    }\n",
       "</style>\n",
       "<table border=\"1\" class=\"dataframe\">\n",
       "  <thead>\n",
       "    <tr>\n",
       "      <th></th>\n",
       "      <th>subject</th>\n",
       "      <th colspan=\"2\" halign=\"left\">Bob</th>\n",
       "      <th colspan=\"2\" halign=\"left\">Guido</th>\n",
       "      <th colspan=\"2\" halign=\"left\">Sue</th>\n",
       "    </tr>\n",
       "    <tr>\n",
       "      <th></th>\n",
       "      <th>type</th>\n",
       "      <th>HR</th>\n",
       "      <th>Temp</th>\n",
       "      <th>HR</th>\n",
       "      <th>Temp</th>\n",
       "      <th>HR</th>\n",
       "      <th>Temp</th>\n",
       "    </tr>\n",
       "    <tr>\n",
       "      <th>year</th>\n",
       "      <th>visit</th>\n",
       "      <th></th>\n",
       "      <th></th>\n",
       "      <th></th>\n",
       "      <th></th>\n",
       "      <th></th>\n",
       "      <th></th>\n",
       "    </tr>\n",
       "  </thead>\n",
       "  <tbody>\n",
       "    <tr>\n",
       "      <th rowspan=\"2\" valign=\"top\">2013</th>\n",
       "      <th>1</th>\n",
       "      <td>31.0</td>\n",
       "      <td>38.5</td>\n",
       "      <td>31.0</td>\n",
       "      <td>36.1</td>\n",
       "      <td>52.0</td>\n",
       "      <td>36.4</td>\n",
       "    </tr>\n",
       "    <tr>\n",
       "      <th>2</th>\n",
       "      <td>45.0</td>\n",
       "      <td>35.7</td>\n",
       "      <td>40.0</td>\n",
       "      <td>37.5</td>\n",
       "      <td>52.0</td>\n",
       "      <td>37.6</td>\n",
       "    </tr>\n",
       "    <tr>\n",
       "      <th rowspan=\"2\" valign=\"top\">2014</th>\n",
       "      <th>1</th>\n",
       "      <td>36.0</td>\n",
       "      <td>37.0</td>\n",
       "      <td>40.0</td>\n",
       "      <td>37.0</td>\n",
       "      <td>29.0</td>\n",
       "      <td>37.5</td>\n",
       "    </tr>\n",
       "    <tr>\n",
       "      <th>2</th>\n",
       "      <td>38.0</td>\n",
       "      <td>36.2</td>\n",
       "      <td>25.0</td>\n",
       "      <td>37.2</td>\n",
       "      <td>26.0</td>\n",
       "      <td>35.9</td>\n",
       "    </tr>\n",
       "  </tbody>\n",
       "</table>\n",
       "</div>"
      ],
      "text/plain": [
       "subject      Bob       Guido         Sue      \n",
       "type          HR  Temp    HR  Temp    HR  Temp\n",
       "year visit                                    \n",
       "2013 1      31.0  38.5  31.0  36.1  52.0  36.4\n",
       "     2      45.0  35.7  40.0  37.5  52.0  37.6\n",
       "2014 1      36.0  37.0  40.0  37.0  29.0  37.5\n",
       "     2      38.0  36.2  25.0  37.2  26.0  35.9"
      ]
     },
     "execution_count": 10,
     "metadata": {},
     "output_type": "execute_result"
    }
   ],
   "source": [
    "pd.read_hdf('sample_hdf.h5')"
   ]
  },
  {
   "cell_type": "markdown",
   "metadata": {},
   "source": [
    "## 2. Binary File Format \n",
    "\n",
    "Pandas offer several binary file formats, typically these file formats are more efficient in terms of data loading and file memory over the traditional data source like csv.\n",
    "\n",
    "In this section we will see couple of binary file formats and will do the comparative analysis with the big csv data source."
   ]
  },
  {
   "cell_type": "markdown",
   "metadata": {},
   "source": [
    "Lets download the sample data from large csv file & capture load time and memory utilized. This will be out starting point for comparison."
   ]
  },
  {
   "cell_type": "code",
   "execution_count": 11,
   "metadata": {},
   "outputs": [
    {
     "data": {
      "text/plain": [
       "('crypto.csv', <http.client.HTTPMessage at 0x7f8f0893b580>)"
      ]
     },
     "execution_count": 11,
     "metadata": {},
     "output_type": "execute_result"
    }
   ],
   "source": [
    "from urllib.request import urlretrieve\n",
    "csv_file_url = \"https://raw.githubusercontent.com/vinodvidhole/pandas-datasource/main/crypto.csv\"\n",
    "urlretrieve(csv_file_url,\"crypto.csv\")"
   ]
  },
  {
   "cell_type": "markdown",
   "metadata": {},
   "source": [
    "Lets checkout the \"crypto.csv\" file size "
   ]
  },
  {
   "cell_type": "code",
   "execution_count": 12,
   "metadata": {},
   "outputs": [
    {
     "name": "stdout",
     "output_type": "stream",
     "text": [
      "-rw-r--r-- 1 jovyan users 19M Jul 16 02:41 crypto.csv\r\n"
     ]
    }
   ],
   "source": [
    "!ls -lh crypto.csv"
   ]
  },
  {
   "cell_type": "markdown",
   "metadata": {},
   "source": [
    "File size of crypto.csv is 19 MB.\n",
    "\n",
    "Now lest load csv data into pandas data frame and capture the time "
   ]
  },
  {
   "cell_type": "code",
   "execution_count": 13,
   "metadata": {},
   "outputs": [
    {
     "name": "stdout",
     "output_type": "stream",
     "text": [
      "CPU times: user 140 ms, sys: 31.7 ms, total: 171 ms\n",
      "Wall time: 170 ms\n"
     ]
    }
   ],
   "source": [
    "%%time\n",
    "crypto_csv_df = pd.read_csv(\"crypto.csv\")"
   ]
  },
  {
   "cell_type": "markdown",
   "metadata": {},
   "source": [
    "Total to to load the data is 173 ms"
   ]
  },
  {
   "cell_type": "markdown",
   "metadata": {},
   "source": [
    "### 2.1 \"feather\" file format\n",
    "\n",
    "Feather is a fast, lightweight, and easy-to-use binary file format for storing data frames. \n",
    "\n",
    "**df.to_feather() :** Write a DataFrame to the binary Feather format.\n",
    "\n",
    "**pd.read_feather() :** Load a feather-format object from the file path."
   ]
  },
  {
   "cell_type": "markdown",
   "metadata": {},
   "source": [
    "First step to install required library"
   ]
  },
  {
   "cell_type": "code",
   "execution_count": 14,
   "metadata": {},
   "outputs": [],
   "source": [
    "!pip install pyarrow -q"
   ]
  },
  {
   "cell_type": "markdown",
   "metadata": {},
   "source": [
    "Here I am going to use same \"crypto_csv_df\", First we will create a feather file and then load the feather file to pandas data frame, Idea is to use same data to compare different file formats."
   ]
  },
  {
   "cell_type": "code",
   "execution_count": 15,
   "metadata": {},
   "outputs": [],
   "source": [
    "crypto_csv_df.to_feather('crypto.feather')"
   ]
  },
  {
   "cell_type": "markdown",
   "metadata": {},
   "source": [
    "The 'crypto.feather' file has created , lets check the size of this file "
   ]
  },
  {
   "cell_type": "code",
   "execution_count": 16,
   "metadata": {},
   "outputs": [
    {
     "name": "stdout",
     "output_type": "stream",
     "text": [
      "-rw-r--r-- 1 jovyan users 12M Jul 16 02:41 crypto.feather\r\n"
     ]
    }
   ],
   "source": [
    "!ls -lh crypto.feather"
   ]
  },
  {
   "cell_type": "markdown",
   "metadata": {},
   "source": [
    "File size of 'crypto.feather' is 12 MB which is less that original csv file.\n",
    "\n",
    "now lets load this feather file into pandas data frame and capture the time "
   ]
  },
  {
   "cell_type": "code",
   "execution_count": 17,
   "metadata": {},
   "outputs": [
    {
     "name": "stdout",
     "output_type": "stream",
     "text": [
      "CPU times: user 27.2 ms, sys: 22.9 ms, total: 50.1 ms\n",
      "Wall time: 27 ms\n"
     ]
    }
   ],
   "source": [
    "%%time\n",
    "csv_df = pd.read_feather(\"crypto.feather\")"
   ]
  },
  {
   "cell_type": "markdown",
   "metadata": {},
   "source": [
    "you can observe drastic performance improvement of 55.6 ms as compared to csv file which was 176 ms  "
   ]
  },
  {
   "cell_type": "markdown",
   "metadata": {},
   "source": [
    "### 2.2 \"parquet\" file format \n",
    "\n",
    "Parquet is an open source, column-oriented data file format designed for efficient data storage and retrieval. It provides efficient data compression and encoding schemes with enhanced performance to handle complex data in bulk.\n",
    "\n",
    "**df.to_parquet() :** Write a DataFrame to the binary parquet format.\n",
    "\n",
    "**pd.read_parquet() :** Load a parquet object from the file path, returning a DataFrame."
   ]
  },
  {
   "cell_type": "markdown",
   "metadata": {},
   "source": [
    "We will follow same approach for \"parquet\" file format."
   ]
  },
  {
   "cell_type": "code",
   "execution_count": 18,
   "metadata": {},
   "outputs": [],
   "source": [
    "crypto_csv_df.to_parquet('crypto.parquet')"
   ]
  },
  {
   "cell_type": "markdown",
   "metadata": {},
   "source": [
    "The 'crypto.parquet' file has created , lets check the size of this file "
   ]
  },
  {
   "cell_type": "code",
   "execution_count": 19,
   "metadata": {},
   "outputs": [
    {
     "name": "stdout",
     "output_type": "stream",
     "text": [
      "-rw-r--r-- 1 jovyan users 8.6M Jul 16 02:41 crypto.parquet\r\n"
     ]
    }
   ],
   "source": [
    "!ls -lh crypto.parquet"
   ]
  },
  {
   "cell_type": "markdown",
   "metadata": {},
   "source": [
    " 'crypto.parquet' file size is 8.6 MB is more memory efficient than feather format."
   ]
  },
  {
   "cell_type": "code",
   "execution_count": 20,
   "metadata": {},
   "outputs": [
    {
     "name": "stdout",
     "output_type": "stream",
     "text": [
      "CPU times: user 62 ms, sys: 34.1 ms, total: 96.2 ms\n",
      "Wall time: 46.4 ms\n"
     ]
    }
   ],
   "source": [
    "%%time\n",
    "csv_df = pd.read_parquet(\"crypto.parquet\")"
   ]
  },
  {
   "cell_type": "markdown",
   "metadata": {},
   "source": [
    "Loading 'crypto.parquet' into Data Frame took little bit more time than feather file format but, its still faster that csv file "
   ]
  },
  {
   "cell_type": "markdown",
   "metadata": {},
   "source": [
    "Here we are working on sample data hence the time and memory we saved is not that relevant but, In real life you will be dealing with huge data in GBs. Using binary format would be handy on that situations. feather format is faster and parquet format is memory efficient, you can choose any format based on the use case."
   ]
  },
  {
   "cell_type": "markdown",
   "metadata": {},
   "source": [
    "### 2.3 Images \n",
    "\n",
    "You can convert the Image into pandas data frame by using following steps \n",
    "\n",
    "First step to import required library "
   ]
  },
  {
   "cell_type": "code",
   "execution_count": 21,
   "metadata": {},
   "outputs": [],
   "source": [
    "from PIL import Image"
   ]
  },
  {
   "cell_type": "markdown",
   "metadata": {},
   "source": [
    "Then you can download the Image "
   ]
  },
  {
   "cell_type": "code",
   "execution_count": 22,
   "metadata": {},
   "outputs": [],
   "source": [
    "urlretrieve('https://i.imgur.com/7hQ9kAG.png', 'banner.png');"
   ]
  },
  {
   "cell_type": "markdown",
   "metadata": {},
   "source": [
    "Reading Image into memory using the PIL module."
   ]
  },
  {
   "cell_type": "code",
   "execution_count": 23,
   "metadata": {},
   "outputs": [
    {
     "data": {
      "image/png": "[encoded data removed]",
      "text/plain": [
       "<PIL.PngImagePlugin.PngImageFile image mode=RGBA size=621x385 at 0x7F8EF2190430>"
      ]
     },
     "execution_count": 23,
     "metadata": {},
     "output_type": "execute_result"
    }
   ],
   "source": [
    "img = Image.open('banner.png')\n",
    "img"
   ]
  },
  {
   "cell_type": "markdown",
   "metadata": {},
   "source": [
    "An image loaded using PIL is simply a 3-dimensional numpy array containing pixel intensities for the red, green & blue (RGB) channels of the image. We can convert the image into an array and then load thet array to pandas data frame."
   ]
  },
  {
   "cell_type": "code",
   "execution_count": 24,
   "metadata": {},
   "outputs": [
    {
     "data": {
      "text/html": [
       "<div>\n",
       "<style scoped>\n",
       "    .dataframe tbody tr th:only-of-type {\n",
       "        vertical-align: middle;\n",
       "    }\n",
       "\n",
       "    .dataframe tbody tr th {\n",
       "        vertical-align: top;\n",
       "    }\n",
       "\n",
       "    .dataframe thead th {\n",
       "        text-align: right;\n",
       "    }\n",
       "</style>\n",
       "<table border=\"1\" class=\"dataframe\">\n",
       "  <thead>\n",
       "    <tr style=\"text-align: right;\">\n",
       "      <th></th>\n",
       "      <th>0</th>\n",
       "      <th>1</th>\n",
       "      <th>2</th>\n",
       "      <th>3</th>\n",
       "    </tr>\n",
       "  </thead>\n",
       "  <tbody>\n",
       "    <tr>\n",
       "      <th>0</th>\n",
       "      <td>255</td>\n",
       "      <td>255</td>\n",
       "      <td>255</td>\n",
       "      <td>255</td>\n",
       "    </tr>\n",
       "    <tr>\n",
       "      <th>1</th>\n",
       "      <td>255</td>\n",
       "      <td>255</td>\n",
       "      <td>255</td>\n",
       "      <td>255</td>\n",
       "    </tr>\n",
       "    <tr>\n",
       "      <th>2</th>\n",
       "      <td>255</td>\n",
       "      <td>255</td>\n",
       "      <td>255</td>\n",
       "      <td>255</td>\n",
       "    </tr>\n",
       "    <tr>\n",
       "      <th>3</th>\n",
       "      <td>255</td>\n",
       "      <td>255</td>\n",
       "      <td>255</td>\n",
       "      <td>255</td>\n",
       "    </tr>\n",
       "    <tr>\n",
       "      <th>4</th>\n",
       "      <td>255</td>\n",
       "      <td>255</td>\n",
       "      <td>255</td>\n",
       "      <td>255</td>\n",
       "    </tr>\n",
       "    <tr>\n",
       "      <th>...</th>\n",
       "      <td>...</td>\n",
       "      <td>...</td>\n",
       "      <td>...</td>\n",
       "      <td>...</td>\n",
       "    </tr>\n",
       "    <tr>\n",
       "      <th>239080</th>\n",
       "      <td>255</td>\n",
       "      <td>255</td>\n",
       "      <td>255</td>\n",
       "      <td>255</td>\n",
       "    </tr>\n",
       "    <tr>\n",
       "      <th>239081</th>\n",
       "      <td>255</td>\n",
       "      <td>255</td>\n",
       "      <td>255</td>\n",
       "      <td>255</td>\n",
       "    </tr>\n",
       "    <tr>\n",
       "      <th>239082</th>\n",
       "      <td>255</td>\n",
       "      <td>255</td>\n",
       "      <td>255</td>\n",
       "      <td>255</td>\n",
       "    </tr>\n",
       "    <tr>\n",
       "      <th>239083</th>\n",
       "      <td>255</td>\n",
       "      <td>255</td>\n",
       "      <td>255</td>\n",
       "      <td>255</td>\n",
       "    </tr>\n",
       "    <tr>\n",
       "      <th>239084</th>\n",
       "      <td>255</td>\n",
       "      <td>255</td>\n",
       "      <td>255</td>\n",
       "      <td>255</td>\n",
       "    </tr>\n",
       "  </tbody>\n",
       "</table>\n",
       "<p>239085 rows × 4 columns</p>\n",
       "</div>"
      ],
      "text/plain": [
       "          0    1    2    3\n",
       "0       255  255  255  255\n",
       "1       255  255  255  255\n",
       "2       255  255  255  255\n",
       "3       255  255  255  255\n",
       "4       255  255  255  255\n",
       "...     ...  ...  ...  ...\n",
       "239080  255  255  255  255\n",
       "239081  255  255  255  255\n",
       "239082  255  255  255  255\n",
       "239083  255  255  255  255\n",
       "239084  255  255  255  255\n",
       "\n",
       "[239085 rows x 4 columns]"
      ]
     },
     "execution_count": 24,
     "metadata": {},
     "output_type": "execute_result"
    }
   ],
   "source": [
    "npframe = np.array(img.getdata())\n",
    "image_df = pd.DataFrame(npframe)\n",
    "image_df"
   ]
  },
  {
   "cell_type": "markdown",
   "metadata": {},
   "source": [
    "## 3. Interacting with Database\n",
    "\n",
    "Most of the time you will be dealing with some sort of database, you can load the data into pandas data frame from any type database MS SQL, Oracle, SQL Light, My SQL.\n",
    "\n",
    "In this tutorial we will work with SQLite database.\n",
    "\n",
    "Importing necessary libraries "
   ]
  },
  {
   "cell_type": "code",
   "execution_count": 25,
   "metadata": {},
   "outputs": [],
   "source": [
    "import sqlite3"
   ]
  },
  {
   "cell_type": "markdown",
   "metadata": {},
   "source": [
    "Following piece of code, first we are connecting the \"example\" database. After that we have created a sample table \"stocks\". And then closing the connection."
   ]
  },
  {
   "cell_type": "code",
   "execution_count": 26,
   "metadata": {},
   "outputs": [],
   "source": [
    "con = sqlite3.connect('example.db')\n",
    "cur = con.cursor()\n",
    "\n",
    "# Drop Table table\n",
    "cur.execute('''DROP TABLE stocks''')\n",
    "\n",
    "# Create table\n",
    "cur.execute('''CREATE TABLE stocks\n",
    "               (date text, trans text, symbol text, qty real, price real)''')\n",
    "# Save (commit) the changes\n",
    "con.commit()\n",
    "\n",
    "# We can also close the connection if we are done with it.\n",
    "# Just be sure any changes have been committed or they will be lost.\n",
    "con.close()"
   ]
  },
  {
   "cell_type": "markdown",
   "metadata": {},
   "source": [
    "Here we are inserting a row in the table "
   ]
  },
  {
   "cell_type": "code",
   "execution_count": 27,
   "metadata": {},
   "outputs": [],
   "source": [
    "con = sqlite3.connect('example.db')\n",
    "cur = con.cursor()\n",
    "\n",
    "# Insert a row of data\n",
    "cur.execute(\"INSERT INTO stocks VALUES ('2022-01-05','BUY','AAPL',100,35.14)\")\n",
    "cur.execute(\"INSERT INTO stocks VALUES ('2022-01-05','BUY','MSFT',100,35.14)\")\n",
    "\n",
    "# Save (commit) the changes\n",
    "con.commit()\n",
    "\n",
    "# We can also close the connection if we are done with it.\n",
    "# Just be sure any changes have been committed or they will be lost.\n",
    "con.close()"
   ]
  },
  {
   "cell_type": "markdown",
   "metadata": {},
   "source": [
    "Finally we are loading the row into pandas Data frame "
   ]
  },
  {
   "cell_type": "code",
   "execution_count": 28,
   "metadata": {},
   "outputs": [
    {
     "data": {
      "text/html": [
       "<div>\n",
       "<style scoped>\n",
       "    .dataframe tbody tr th:only-of-type {\n",
       "        vertical-align: middle;\n",
       "    }\n",
       "\n",
       "    .dataframe tbody tr th {\n",
       "        vertical-align: top;\n",
       "    }\n",
       "\n",
       "    .dataframe thead th {\n",
       "        text-align: right;\n",
       "    }\n",
       "</style>\n",
       "<table border=\"1\" class=\"dataframe\">\n",
       "  <thead>\n",
       "    <tr style=\"text-align: right;\">\n",
       "      <th></th>\n",
       "      <th>0</th>\n",
       "      <th>1</th>\n",
       "      <th>2</th>\n",
       "      <th>3</th>\n",
       "      <th>4</th>\n",
       "    </tr>\n",
       "  </thead>\n",
       "  <tbody>\n",
       "    <tr>\n",
       "      <th>0</th>\n",
       "      <td>2022-01-05</td>\n",
       "      <td>BUY</td>\n",
       "      <td>AAPL</td>\n",
       "      <td>100.0</td>\n",
       "      <td>35.14</td>\n",
       "    </tr>\n",
       "    <tr>\n",
       "      <th>1</th>\n",
       "      <td>2022-01-05</td>\n",
       "      <td>BUY</td>\n",
       "      <td>MSFT</td>\n",
       "      <td>100.0</td>\n",
       "      <td>35.14</td>\n",
       "    </tr>\n",
       "  </tbody>\n",
       "</table>\n",
       "</div>"
      ],
      "text/plain": [
       "            0    1     2      3      4\n",
       "0  2022-01-05  BUY  AAPL  100.0  35.14\n",
       "1  2022-01-05  BUY  MSFT  100.0  35.14"
      ]
     },
     "execution_count": 28,
     "metadata": {},
     "output_type": "execute_result"
    }
   ],
   "source": [
    "con = sqlite3.connect('example.db')\n",
    "cur = con.cursor()\n",
    "pd.DataFrame(cur.execute('SELECT * FROM stocks ORDER BY price'))"
   ]
  },
  {
   "cell_type": "markdown",
   "metadata": {},
   "source": [
    "You can connect to any database, there might be some syntax variations for different databases. "
   ]
  },
  {
   "cell_type": "markdown",
   "metadata": {},
   "source": [
    "## 4. Data from APIs\n",
    "\n",
    "Many websites provides build in APIs which provides data deeds (mostly in the JSON format), they are commonly knows as REST API. we can use these APIs and load the data into Pandas Data frames."
   ]
  },
  {
   "cell_type": "markdown",
   "metadata": {},
   "source": [
    "Lets take example of Git Hub API, In below demonstrate how can we load data from API into a pandas data frame"
   ]
  },
  {
   "cell_type": "code",
   "execution_count": 29,
   "metadata": {},
   "outputs": [
    {
     "data": {
      "text/html": [
       "<div>\n",
       "<style scoped>\n",
       "    .dataframe tbody tr th:only-of-type {\n",
       "        vertical-align: middle;\n",
       "    }\n",
       "\n",
       "    .dataframe tbody tr th {\n",
       "        vertical-align: top;\n",
       "    }\n",
       "\n",
       "    .dataframe thead th {\n",
       "        text-align: right;\n",
       "    }\n",
       "</style>\n",
       "<table border=\"1\" class=\"dataframe\">\n",
       "  <thead>\n",
       "    <tr style=\"text-align: right;\">\n",
       "      <th></th>\n",
       "      <th>url</th>\n",
       "      <th>repository_url</th>\n",
       "      <th>labels_url</th>\n",
       "      <th>comments_url</th>\n",
       "      <th>events_url</th>\n",
       "      <th>html_url</th>\n",
       "      <th>id</th>\n",
       "      <th>node_id</th>\n",
       "      <th>number</th>\n",
       "      <th>title</th>\n",
       "      <th>...</th>\n",
       "      <th>closed_at</th>\n",
       "      <th>author_association</th>\n",
       "      <th>active_lock_reason</th>\n",
       "      <th>draft</th>\n",
       "      <th>pull_request</th>\n",
       "      <th>body</th>\n",
       "      <th>reactions</th>\n",
       "      <th>timeline_url</th>\n",
       "      <th>performed_via_github_app</th>\n",
       "      <th>state_reason</th>\n",
       "    </tr>\n",
       "  </thead>\n",
       "  <tbody>\n",
       "    <tr>\n",
       "      <th>0</th>\n",
       "      <td>https://api.github.com/repos/pandas-dev/pandas...</td>\n",
       "      <td>https://api.github.com/repos/pandas-dev/pandas</td>\n",
       "      <td>https://api.github.com/repos/pandas-dev/pandas...</td>\n",
       "      <td>https://api.github.com/repos/pandas-dev/pandas...</td>\n",
       "      <td>https://api.github.com/repos/pandas-dev/pandas...</td>\n",
       "      <td>https://github.com/pandas-dev/pandas/pull/47745</td>\n",
       "      <td>1306633418</td>\n",
       "      <td>PR_kwDOAA0YD847gK-0</td>\n",
       "      <td>47745</td>\n",
       "      <td>BUG: Behavior with fallback between raise and ...</td>\n",
       "      <td>...</td>\n",
       "      <td>None</td>\n",
       "      <td>CONTRIBUTOR</td>\n",
       "      <td>None</td>\n",
       "      <td>False</td>\n",
       "      <td>{'url': 'https://api.github.com/repos/pandas-d...</td>\n",
       "      <td>- [ ] closes #46071 (Replace xxxx with the Git...</td>\n",
       "      <td>{'url': 'https://api.github.com/repos/pandas-d...</td>\n",
       "      <td>https://api.github.com/repos/pandas-dev/pandas...</td>\n",
       "      <td>None</td>\n",
       "      <td>None</td>\n",
       "    </tr>\n",
       "    <tr>\n",
       "      <th>1</th>\n",
       "      <td>https://api.github.com/repos/pandas-dev/pandas...</td>\n",
       "      <td>https://api.github.com/repos/pandas-dev/pandas</td>\n",
       "      <td>https://api.github.com/repos/pandas-dev/pandas...</td>\n",
       "      <td>https://api.github.com/repos/pandas-dev/pandas...</td>\n",
       "      <td>https://api.github.com/repos/pandas-dev/pandas...</td>\n",
       "      <td>https://github.com/pandas-dev/pandas/pull/47744</td>\n",
       "      <td>1306545939</td>\n",
       "      <td>PR_kwDOAA0YD847f4Yg</td>\n",
       "      <td>47744</td>\n",
       "      <td>ENH/TST: Add quantile &amp; mode tests for ArrowEx...</td>\n",
       "      <td>...</td>\n",
       "      <td>None</td>\n",
       "      <td>MEMBER</td>\n",
       "      <td>None</td>\n",
       "      <td>False</td>\n",
       "      <td>{'url': 'https://api.github.com/repos/pandas-d...</td>\n",
       "      <td>- [ ] [Tests added and passed](https://pandas....</td>\n",
       "      <td>{'url': 'https://api.github.com/repos/pandas-d...</td>\n",
       "      <td>https://api.github.com/repos/pandas-dev/pandas...</td>\n",
       "      <td>None</td>\n",
       "      <td>None</td>\n",
       "    </tr>\n",
       "    <tr>\n",
       "      <th>2</th>\n",
       "      <td>https://api.github.com/repos/pandas-dev/pandas...</td>\n",
       "      <td>https://api.github.com/repos/pandas-dev/pandas</td>\n",
       "      <td>https://api.github.com/repos/pandas-dev/pandas...</td>\n",
       "      <td>https://api.github.com/repos/pandas-dev/pandas...</td>\n",
       "      <td>https://api.github.com/repos/pandas-dev/pandas...</td>\n",
       "      <td>https://github.com/pandas-dev/pandas/issues/47743</td>\n",
       "      <td>1306352675</td>\n",
       "      <td>I_kwDOAA0YD85N3Vwj</td>\n",
       "      <td>47743</td>\n",
       "      <td>BUG: groupby transform functions ignore dropna</td>\n",
       "      <td>...</td>\n",
       "      <td>None</td>\n",
       "      <td>CONTRIBUTOR</td>\n",
       "      <td>None</td>\n",
       "      <td>NaN</td>\n",
       "      <td>NaN</td>\n",
       "      <td>### Pandas version checks\\r\\n\\r\\n- [X] I have ...</td>\n",
       "      <td>{'url': 'https://api.github.com/repos/pandas-d...</td>\n",
       "      <td>https://api.github.com/repos/pandas-dev/pandas...</td>\n",
       "      <td>None</td>\n",
       "      <td>None</td>\n",
       "    </tr>\n",
       "    <tr>\n",
       "      <th>3</th>\n",
       "      <td>https://api.github.com/repos/pandas-dev/pandas...</td>\n",
       "      <td>https://api.github.com/repos/pandas-dev/pandas</td>\n",
       "      <td>https://api.github.com/repos/pandas-dev/pandas...</td>\n",
       "      <td>https://api.github.com/repos/pandas-dev/pandas...</td>\n",
       "      <td>https://api.github.com/repos/pandas-dev/pandas...</td>\n",
       "      <td>https://github.com/pandas-dev/pandas/pull/47742</td>\n",
       "      <td>1306320439</td>\n",
       "      <td>PR_kwDOAA0YD847fGmN</td>\n",
       "      <td>47742</td>\n",
       "      <td>DOC: Clarify return type cases in pandas.unique</td>\n",
       "      <td>...</td>\n",
       "      <td>None</td>\n",
       "      <td>CONTRIBUTOR</td>\n",
       "      <td>None</td>\n",
       "      <td>False</td>\n",
       "      <td>{'url': 'https://api.github.com/repos/pandas-d...</td>\n",
       "      <td>- [ ] closes #47426\\r\\n- [ ] [Tests added and ...</td>\n",
       "      <td>{'url': 'https://api.github.com/repos/pandas-d...</td>\n",
       "      <td>https://api.github.com/repos/pandas-dev/pandas...</td>\n",
       "      <td>None</td>\n",
       "      <td>None</td>\n",
       "    </tr>\n",
       "    <tr>\n",
       "      <th>4</th>\n",
       "      <td>https://api.github.com/repos/pandas-dev/pandas...</td>\n",
       "      <td>https://api.github.com/repos/pandas-dev/pandas</td>\n",
       "      <td>https://api.github.com/repos/pandas-dev/pandas...</td>\n",
       "      <td>https://api.github.com/repos/pandas-dev/pandas...</td>\n",
       "      <td>https://api.github.com/repos/pandas-dev/pandas...</td>\n",
       "      <td>https://github.com/pandas-dev/pandas/issues/47740</td>\n",
       "      <td>1306278033</td>\n",
       "      <td>I_kwDOAA0YD85N3DiR</td>\n",
       "      <td>47740</td>\n",
       "      <td>DOC: update min package versions in install.rs...</td>\n",
       "      <td>...</td>\n",
       "      <td>None</td>\n",
       "      <td>CONTRIBUTOR</td>\n",
       "      <td>None</td>\n",
       "      <td>NaN</td>\n",
       "      <td>NaN</td>\n",
       "      <td>### Pandas version checks\\n\\n- [X] I have chec...</td>\n",
       "      <td>{'url': 'https://api.github.com/repos/pandas-d...</td>\n",
       "      <td>https://api.github.com/repos/pandas-dev/pandas...</td>\n",
       "      <td>None</td>\n",
       "      <td>None</td>\n",
       "    </tr>\n",
       "  </tbody>\n",
       "</table>\n",
       "<p>5 rows × 30 columns</p>\n",
       "</div>"
      ],
      "text/plain": [
       "                                                 url  \\\n",
       "0  https://api.github.com/repos/pandas-dev/pandas...   \n",
       "1  https://api.github.com/repos/pandas-dev/pandas...   \n",
       "2  https://api.github.com/repos/pandas-dev/pandas...   \n",
       "3  https://api.github.com/repos/pandas-dev/pandas...   \n",
       "4  https://api.github.com/repos/pandas-dev/pandas...   \n",
       "\n",
       "                                   repository_url  \\\n",
       "0  https://api.github.com/repos/pandas-dev/pandas   \n",
       "1  https://api.github.com/repos/pandas-dev/pandas   \n",
       "2  https://api.github.com/repos/pandas-dev/pandas   \n",
       "3  https://api.github.com/repos/pandas-dev/pandas   \n",
       "4  https://api.github.com/repos/pandas-dev/pandas   \n",
       "\n",
       "                                          labels_url  \\\n",
       "0  https://api.github.com/repos/pandas-dev/pandas...   \n",
       "1  https://api.github.com/repos/pandas-dev/pandas...   \n",
       "2  https://api.github.com/repos/pandas-dev/pandas...   \n",
       "3  https://api.github.com/repos/pandas-dev/pandas...   \n",
       "4  https://api.github.com/repos/pandas-dev/pandas...   \n",
       "\n",
       "                                        comments_url  \\\n",
       "0  https://api.github.com/repos/pandas-dev/pandas...   \n",
       "1  https://api.github.com/repos/pandas-dev/pandas...   \n",
       "2  https://api.github.com/repos/pandas-dev/pandas...   \n",
       "3  https://api.github.com/repos/pandas-dev/pandas...   \n",
       "4  https://api.github.com/repos/pandas-dev/pandas...   \n",
       "\n",
       "                                          events_url  \\\n",
       "0  https://api.github.com/repos/pandas-dev/pandas...   \n",
       "1  https://api.github.com/repos/pandas-dev/pandas...   \n",
       "2  https://api.github.com/repos/pandas-dev/pandas...   \n",
       "3  https://api.github.com/repos/pandas-dev/pandas...   \n",
       "4  https://api.github.com/repos/pandas-dev/pandas...   \n",
       "\n",
       "                                            html_url          id  \\\n",
       "0    https://github.com/pandas-dev/pandas/pull/47745  1306633418   \n",
       "1    https://github.com/pandas-dev/pandas/pull/47744  1306545939   \n",
       "2  https://github.com/pandas-dev/pandas/issues/47743  1306352675   \n",
       "3    https://github.com/pandas-dev/pandas/pull/47742  1306320439   \n",
       "4  https://github.com/pandas-dev/pandas/issues/47740  1306278033   \n",
       "\n",
       "               node_id  number  \\\n",
       "0  PR_kwDOAA0YD847gK-0   47745   \n",
       "1  PR_kwDOAA0YD847f4Yg   47744   \n",
       "2   I_kwDOAA0YD85N3Vwj   47743   \n",
       "3  PR_kwDOAA0YD847fGmN   47742   \n",
       "4   I_kwDOAA0YD85N3DiR   47740   \n",
       "\n",
       "                                               title  ... closed_at  \\\n",
       "0  BUG: Behavior with fallback between raise and ...  ...      None   \n",
       "1  ENH/TST: Add quantile & mode tests for ArrowEx...  ...      None   \n",
       "2     BUG: groupby transform functions ignore dropna  ...      None   \n",
       "3    DOC: Clarify return type cases in pandas.unique  ...      None   \n",
       "4  DOC: update min package versions in install.rs...  ...      None   \n",
       "\n",
       "  author_association active_lock_reason  draft  \\\n",
       "0        CONTRIBUTOR               None  False   \n",
       "1             MEMBER               None  False   \n",
       "2        CONTRIBUTOR               None    NaN   \n",
       "3        CONTRIBUTOR               None  False   \n",
       "4        CONTRIBUTOR               None    NaN   \n",
       "\n",
       "                                        pull_request  \\\n",
       "0  {'url': 'https://api.github.com/repos/pandas-d...   \n",
       "1  {'url': 'https://api.github.com/repos/pandas-d...   \n",
       "2                                                NaN   \n",
       "3  {'url': 'https://api.github.com/repos/pandas-d...   \n",
       "4                                                NaN   \n",
       "\n",
       "                                                body  \\\n",
       "0  - [ ] closes #46071 (Replace xxxx with the Git...   \n",
       "1  - [ ] [Tests added and passed](https://pandas....   \n",
       "2  ### Pandas version checks\\r\\n\\r\\n- [X] I have ...   \n",
       "3  - [ ] closes #47426\\r\\n- [ ] [Tests added and ...   \n",
       "4  ### Pandas version checks\\n\\n- [X] I have chec...   \n",
       "\n",
       "                                           reactions  \\\n",
       "0  {'url': 'https://api.github.com/repos/pandas-d...   \n",
       "1  {'url': 'https://api.github.com/repos/pandas-d...   \n",
       "2  {'url': 'https://api.github.com/repos/pandas-d...   \n",
       "3  {'url': 'https://api.github.com/repos/pandas-d...   \n",
       "4  {'url': 'https://api.github.com/repos/pandas-d...   \n",
       "\n",
       "                                        timeline_url performed_via_github_app  \\\n",
       "0  https://api.github.com/repos/pandas-dev/pandas...                     None   \n",
       "1  https://api.github.com/repos/pandas-dev/pandas...                     None   \n",
       "2  https://api.github.com/repos/pandas-dev/pandas...                     None   \n",
       "3  https://api.github.com/repos/pandas-dev/pandas...                     None   \n",
       "4  https://api.github.com/repos/pandas-dev/pandas...                     None   \n",
       "\n",
       "  state_reason  \n",
       "0         None  \n",
       "1         None  \n",
       "2         None  \n",
       "3         None  \n",
       "4         None  \n",
       "\n",
       "[5 rows x 30 columns]"
      ]
     },
     "execution_count": 29,
     "metadata": {},
     "output_type": "execute_result"
    }
   ],
   "source": [
    "import requests \n",
    "\n",
    "git_hub_api_sample_url = \"https://api.github.com/repos/pandas-dev/pandas/issues\"\n",
    "\n",
    "response = requests.get(git_hub_api_sample_url)\n",
    "\n",
    "if response.ok:\n",
    "    api_data = response.json()\n",
    "\n",
    "pd.DataFrame(api_data).head(5)"
   ]
  },
  {
   "cell_type": "markdown",
   "metadata": {},
   "source": [
    "This concludes the tutorial "
   ]
  },
  {
   "cell_type": "markdown",
   "metadata": {},
   "source": [
    "## Reference Links\n",
    "References to some useful links.\n",
    "\n",
    "- https://github.com/vinodvidhole/pandas-datasource\n",
    "- https://medium.com/@vinodvidhole\n",
    "- https://www.kaggle.com/datasets/victorsoeiro/netflix-tv-shows-and-movies?select=titles.csv\n",
    "- http://dailydoseofexcel.com/excel/FixedWidthExample2.txt\n",
    "- https://docs.microsoft.com/en-us/previous-versions/windows/desktop/ms762271(v=vs.85)\n",
    "- https://docs.python.org/3/library/sqlite3.html\n",
    "- https://www.hdfgroup.org/downloads/hdfview/\n",
    "- https://wesmckinney.com/book/\n"
   ]
  },
  {
   "cell_type": "markdown",
   "metadata": {},
   "source": [
    "## Conclusion \n",
    "\n",
    "Getting access to data is frequently first step in data science. We have looked at a number of useful tool in this tutorial tat should help you get started.\n",
    "\n",
    "If you have any questions, feedback feel free to post a comment or contact me on [LinkedIn](https://www.linkedin.com/in/vinodvidhole/). Thank you for reading and if you liked this post, please consider following me. Until next time… Happy coding !!\n",
    "\n",
    "**Don’t forget to give your 👏 !**\n",
    "![](https://i.imgur.com/gcPLO6S.gif)"
   ]
  },
  {
   "cell_type": "code",
   "execution_count": null,
   "metadata": {
    "id": "MOXA0uNTTiio"
   },
   "outputs": [
    {
     "data": {
      "application/javascript": [
       "window.require && require([\"base/js/namespace\"],function(Jupyter){Jupyter.notebook.save_checkpoint()})"
      ],
      "text/plain": [
       "<IPython.core.display.Javascript object>"
      ]
     },
     "metadata": {},
     "output_type": "display_data"
    }
   ],
   "source": [
    "jovian.commit(filename=\"pandas-datasource\")"
   ]
  },
  {
   "cell_type": "code",
   "execution_count": null,
   "metadata": {},
   "outputs": [],
   "source": []
  }
 ],
 "metadata": {
  "colab": {
   "name": "pandas-datasource.ipynb",
   "provenance": []
  },
  "language_info": {
   "codemirror_mode": {
    "name": "ipython",
    "version": 3
   },
   "file_extension": ".py",
   "mimetype": "text/x-python",
   "name": "python",
   "nbconvert_exporter": "python",
   "pygments_lexer": "ipython3",
   "version": "3.9.6"
  }
 },
 "nbformat": 4,
 "nbformat_minor": 1
}